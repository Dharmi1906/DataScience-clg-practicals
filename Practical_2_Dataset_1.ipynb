{
  "nbformat": 4,
  "nbformat_minor": 0,
  "metadata": {
    "colab": {
      "name": "Practical_2_Dataset_1.ipynb",
      "provenance": [],
      "collapsed_sections": [],
      "toc_visible": true,
      "authorship_tag": "ABX9TyOkWIGfn2tC4OPCh7Npcdny",
      "include_colab_link": true
    },
    "kernelspec": {
      "name": "python3",
      "display_name": "Python 3"
    }
  },
  "cells": [
    {
      "cell_type": "markdown",
      "metadata": {
        "id": "view-in-github",
        "colab_type": "text"
      },
      "source": [
        "<a href=\"https://colab.research.google.com/github/Dharmi1906/DataScience-clg-practicals/blob/master/Practical_2_Dataset_1.ipynb\" target=\"_parent\"><img src=\"https://colab.research.google.com/assets/colab-badge.svg\" alt=\"Open In Colab\"/></a>"
      ]
    },
    {
      "cell_type": "code",
      "metadata": {
        "id": "bD3j-Vg6glJx",
        "colab_type": "code",
        "colab": {}
      },
      "source": [
        "# Use this cell to set up import statements for all of the packages that you plan to use.\n",
        "import pandas as pd\n",
        "import numpy as np\n",
        "from pandas import Series, DataFrame\n",
        "import matplotlib.pyplot as plt\n",
        "%matplotlib inline\n",
        "import seaborn as sns"
      ],
      "execution_count": 19,
      "outputs": []
    },
    {
      "cell_type": "markdown",
      "metadata": {
        "id": "wsF85BFzgvFa",
        "colab_type": "text"
      },
      "source": [
        ""
      ]
    },
    {
      "cell_type": "code",
      "metadata": {
        "id": "bFuVhHsiu1a-",
        "colab_type": "code",
        "colab": {
          "base_uri": "https://localhost:8080/",
          "height": 487
        },
        "outputId": "2198f436-2e81-494d-9bcf-0242de9d8d43"
      },
      "source": [
        "#importing data\n",
        "tmdb_data = pd.read_csv(\"tmdb_movies_data.csv\")\n",
        "\n",
        "#getting overview of various columns\n",
        "tmdb_data.info()"
      ],
      "execution_count": 35,
      "outputs": [
        {
          "output_type": "stream",
          "text": [
            "<class 'pandas.core.frame.DataFrame'>\n",
            "RangeIndex: 10866 entries, 0 to 10865\n",
            "Data columns (total 21 columns):\n",
            " #   Column                Non-Null Count  Dtype  \n",
            "---  ------                --------------  -----  \n",
            " 0   id                    10866 non-null  int64  \n",
            " 1   imdb_id               10856 non-null  object \n",
            " 2   popularity            10866 non-null  float64\n",
            " 3   budget                10866 non-null  int64  \n",
            " 4   revenue               10866 non-null  int64  \n",
            " 5   original_title        10866 non-null  object \n",
            " 6   cast                  10790 non-null  object \n",
            " 7   homepage              2936 non-null   object \n",
            " 8   director              10822 non-null  object \n",
            " 9   tagline               8042 non-null   object \n",
            " 10  keywords              9373 non-null   object \n",
            " 11  overview              10862 non-null  object \n",
            " 12  runtime               10866 non-null  int64  \n",
            " 13  genres                10843 non-null  object \n",
            " 14  production_companies  9836 non-null   object \n",
            " 15  release_date          10866 non-null  object \n",
            " 16  vote_count            10866 non-null  int64  \n",
            " 17  vote_average          10866 non-null  float64\n",
            " 18  release_year          10866 non-null  int64  \n",
            " 19  budget_adj            10866 non-null  float64\n",
            " 20  revenue_adj           10866 non-null  float64\n",
            "dtypes: float64(4), int64(6), object(11)\n",
            "memory usage: 1.7+ MB\n"
          ],
          "name": "stdout"
        }
      ]
    },
    {
      "cell_type": "code",
      "metadata": {
        "id": "_rVQZvqYhl7e",
        "colab_type": "code",
        "colab": {
          "base_uri": "https://localhost:8080/",
          "height": 34
        },
        "outputId": "21687115-a079-4361-b1d7-0432d28a4c8a"
      },
      "source": [
        "#finding dimensions\n",
        "print(tmdb_data.shape)"
      ],
      "execution_count": 36,
      "outputs": [
        {
          "output_type": "stream",
          "text": [
            "(10866, 21)\n"
          ],
          "name": "stdout"
        }
      ]
    },
    {
      "cell_type": "markdown",
      "metadata": {
        "id": "IaJQtpULvW2-",
        "colab_type": "text"
      },
      "source": [
        "# ***Dealing with NA values***"
      ]
    },
    {
      "cell_type": "code",
      "metadata": {
        "id": "uQZlaNFAuleO",
        "colab_type": "code",
        "colab": {
          "base_uri": "https://localhost:8080/",
          "height": 386
        },
        "outputId": "6d5bc572-58e7-4f33-97d9-c06272d77421"
      },
      "source": [
        "#Let's see how many columns contains NA values\n",
        "tmdb_data.isna().any()"
      ],
      "execution_count": 37,
      "outputs": [
        {
          "output_type": "execute_result",
          "data": {
            "text/plain": [
              "id                      False\n",
              "imdb_id                  True\n",
              "popularity              False\n",
              "budget                  False\n",
              "revenue                 False\n",
              "original_title          False\n",
              "cast                     True\n",
              "homepage                 True\n",
              "director                 True\n",
              "tagline                  True\n",
              "keywords                 True\n",
              "overview                 True\n",
              "runtime                 False\n",
              "genres                   True\n",
              "production_companies     True\n",
              "release_date            False\n",
              "vote_count              False\n",
              "vote_average            False\n",
              "release_year            False\n",
              "budget_adj              False\n",
              "revenue_adj             False\n",
              "dtype: bool"
            ]
          },
          "metadata": {
            "tags": []
          },
          "execution_count": 37
        }
      ]
    },
    {
      "cell_type": "markdown",
      "metadata": {
        "id": "ydAvUKTqjSjm",
        "colab_type": "text"
      },
      "source": [
        "1. So, we can see imdb_id, cast, homepage, director,tagline, overview, genres and production_companies contains NA values\n",
        "2. Let's visualize to make it more clear"
      ]
    },
    {
      "cell_type": "code",
      "metadata": {
        "id": "zOZ3TtfpjYuO",
        "colab_type": "code",
        "colab": {
          "base_uri": "https://localhost:8080/",
          "height": 754
        },
        "outputId": "54e66932-0817-49b9-e0b7-ce5c8613110a"
      },
      "source": [
        "#Getting count of NA values in each column\n",
        "print(tmdb_data.isna().sum())\n",
        "\n",
        "#visualizing\n",
        "tmdb_data.isna().sum().plot(kind=\"bar\")"
      ],
      "execution_count": 38,
      "outputs": [
        {
          "output_type": "stream",
          "text": [
            "id                         0\n",
            "imdb_id                   10\n",
            "popularity                 0\n",
            "budget                     0\n",
            "revenue                    0\n",
            "original_title             0\n",
            "cast                      76\n",
            "homepage                7930\n",
            "director                  44\n",
            "tagline                 2824\n",
            "keywords                1493\n",
            "overview                   4\n",
            "runtime                    0\n",
            "genres                    23\n",
            "production_companies    1030\n",
            "release_date               0\n",
            "vote_count                 0\n",
            "vote_average               0\n",
            "release_year               0\n",
            "budget_adj                 0\n",
            "revenue_adj                0\n",
            "dtype: int64\n"
          ],
          "name": "stdout"
        },
        {
          "output_type": "execute_result",
          "data": {
            "text/plain": [
              "<matplotlib.axes._subplots.AxesSubplot at 0x7f4f96464668>"
            ]
          },
          "metadata": {
            "tags": []
          },
          "execution_count": 38
        },
        {
          "output_type": "display_data",
          "data": {
            "image/png": "[encoded data removed]",
            "text/plain": [
              "<Figure size 432x288 with 1 Axes>"
            ]
          },
          "metadata": {
            "tags": [],
            "needs_background": "light"
          }
        }
      ]
    },
    {
      "cell_type": "markdown",
      "metadata": {
        "id": "ESDPrb89vzBP",
        "colab_type": "text"
      },
      "source": [
        "\n",
        "We can say that Homepage column has literally double the NA values than Tagline.\n",
        "\n",
        "Let's drop rows with NA values.\n",
        "\n"
      ]
    },
    {
      "cell_type": "code",
      "metadata": {
        "id": "zM7cIeZcvsjP",
        "colab_type": "code",
        "colab": {
          "base_uri": "https://localhost:8080/",
          "height": 487
        },
        "outputId": "afc8bf9b-bf76-4a27-cf37-03535a2f1b2c"
      },
      "source": [
        "tmdb_data_cleaned = tmdb_data.dropna()\n",
        "tmdb_data_cleaned.info()"
      ],
      "execution_count": 39,
      "outputs": [
        {
          "output_type": "stream",
          "text": [
            "<class 'pandas.core.frame.DataFrame'>\n",
            "Int64Index: 1992 entries, 0 to 10819\n",
            "Data columns (total 21 columns):\n",
            " #   Column                Non-Null Count  Dtype  \n",
            "---  ------                --------------  -----  \n",
            " 0   id                    1992 non-null   int64  \n",
            " 1   imdb_id               1992 non-null   object \n",
            " 2   popularity            1992 non-null   float64\n",
            " 3   budget                1992 non-null   int64  \n",
            " 4   revenue               1992 non-null   int64  \n",
            " 5   original_title        1992 non-null   object \n",
            " 6   cast                  1992 non-null   object \n",
            " 7   homepage              1992 non-null   object \n",
            " 8   director              1992 non-null   object \n",
            " 9   tagline               1992 non-null   object \n",
            " 10  keywords              1992 non-null   object \n",
            " 11  overview              1992 non-null   object \n",
            " 12  runtime               1992 non-null   int64  \n",
            " 13  genres                1992 non-null   object \n",
            " 14  production_companies  1992 non-null   object \n",
            " 15  release_date          1992 non-null   object \n",
            " 16  vote_count            1992 non-null   int64  \n",
            " 17  vote_average          1992 non-null   float64\n",
            " 18  release_year          1992 non-null   int64  \n",
            " 19  budget_adj            1992 non-null   float64\n",
            " 20  revenue_adj           1992 non-null   float64\n",
            "dtypes: float64(4), int64(6), object(11)\n",
            "memory usage: 342.4+ KB\n"
          ],
          "name": "stdout"
        }
      ]
    },
    {
      "cell_type": "code",
      "metadata": {
        "id": "NzhKN0TBwJAL",
        "colab_type": "code",
        "colab": {
          "base_uri": "https://localhost:8080/",
          "height": 284
        },
        "outputId": "cd377be8-e416-4d2e-e75d-b4b0bcd39ae6"
      },
      "source": [
        "#finding summary statistics \n",
        "tmdb_data_cleaned.describe()"
      ],
      "execution_count": 40,
      "outputs": [
        {
          "output_type": "execute_result",
          "data": {
            "text/html": [
              "<div>\n",
              "<style scoped>\n",
              "    .dataframe tbody tr th:only-of-type {\n",
              "        vertical-align: middle;\n",
              "    }\n",
              "\n",
              "    .dataframe tbody tr th {\n",
              "        vertical-align: top;\n",
              "    }\n",
              "\n",
              "    .dataframe thead th {\n",
              "        text-align: right;\n",
              "    }\n",
              "</style>\n",
              "<table border=\"1\" class=\"dataframe\">\n",
              "  <thead>\n",
              "    <tr style=\"text-align: right;\">\n",
              "      <th></th>\n",
              "      <th>id</th>\n",
              "      <th>popularity</th>\n",
              "      <th>budget</th>\n",
              "      <th>revenue</th>\n",
              "      <th>runtime</th>\n",
              "      <th>vote_count</th>\n",
              "      <th>vote_average</th>\n",
              "      <th>release_year</th>\n",
              "      <th>budget_adj</th>\n",
              "      <th>revenue_adj</th>\n",
              "    </tr>\n",
              "  </thead>\n",
              "  <tbody>\n",
              "    <tr>\n",
              "      <th>count</th>\n",
              "      <td>1992.000000</td>\n",
              "      <td>1992.000000</td>\n",
              "      <td>1.992000e+03</td>\n",
              "      <td>1.992000e+03</td>\n",
              "      <td>1992.000000</td>\n",
              "      <td>1992.000000</td>\n",
              "      <td>1992.000000</td>\n",
              "      <td>1992.000000</td>\n",
              "      <td>1.992000e+03</td>\n",
              "      <td>1.992000e+03</td>\n",
              "    </tr>\n",
              "    <tr>\n",
              "      <th>mean</th>\n",
              "      <td>71652.152108</td>\n",
              "      <td>1.316763</td>\n",
              "      <td>3.454924e+07</td>\n",
              "      <td>1.152153e+08</td>\n",
              "      <td>106.040161</td>\n",
              "      <td>643.616968</td>\n",
              "      <td>6.178614</td>\n",
              "      <td>2007.796687</td>\n",
              "      <td>3.627376e+07</td>\n",
              "      <td>1.302391e+08</td>\n",
              "    </tr>\n",
              "    <tr>\n",
              "      <th>std</th>\n",
              "      <td>92355.883915</td>\n",
              "      <td>1.873563</td>\n",
              "      <td>5.061878e+07</td>\n",
              "      <td>2.202887e+08</td>\n",
              "      <td>29.234592</td>\n",
              "      <td>1092.355998</td>\n",
              "      <td>0.881955</td>\n",
              "      <td>7.549224</td>\n",
              "      <td>5.129783e+07</td>\n",
              "      <td>2.564338e+08</td>\n",
              "    </tr>\n",
              "    <tr>\n",
              "      <th>min</th>\n",
              "      <td>11.000000</td>\n",
              "      <td>0.000620</td>\n",
              "      <td>0.000000e+00</td>\n",
              "      <td>0.000000e+00</td>\n",
              "      <td>0.000000</td>\n",
              "      <td>10.000000</td>\n",
              "      <td>2.100000</td>\n",
              "      <td>1961.000000</td>\n",
              "      <td>0.000000e+00</td>\n",
              "      <td>0.000000e+00</td>\n",
              "    </tr>\n",
              "    <tr>\n",
              "      <th>25%</th>\n",
              "      <td>9699.000000</td>\n",
              "      <td>0.384079</td>\n",
              "      <td>0.000000e+00</td>\n",
              "      <td>0.000000e+00</td>\n",
              "      <td>92.000000</td>\n",
              "      <td>51.000000</td>\n",
              "      <td>5.600000</td>\n",
              "      <td>2006.000000</td>\n",
              "      <td>0.000000e+00</td>\n",
              "      <td>0.000000e+00</td>\n",
              "    </tr>\n",
              "    <tr>\n",
              "      <th>50%</th>\n",
              "      <td>35112.500000</td>\n",
              "      <td>0.774223</td>\n",
              "      <td>1.500000e+07</td>\n",
              "      <td>2.578782e+07</td>\n",
              "      <td>102.000000</td>\n",
              "      <td>210.000000</td>\n",
              "      <td>6.200000</td>\n",
              "      <td>2010.000000</td>\n",
              "      <td>1.524601e+07</td>\n",
              "      <td>2.806370e+07</td>\n",
              "    </tr>\n",
              "    <tr>\n",
              "      <th>75%</th>\n",
              "      <td>83573.000000</td>\n",
              "      <td>1.538639</td>\n",
              "      <td>4.800000e+07</td>\n",
              "      <td>1.278787e+08</td>\n",
              "      <td>116.000000</td>\n",
              "      <td>688.250000</td>\n",
              "      <td>6.800000</td>\n",
              "      <td>2012.000000</td>\n",
              "      <td>5.064450e+07</td>\n",
              "      <td>1.393645e+08</td>\n",
              "    </tr>\n",
              "    <tr>\n",
              "      <th>max</th>\n",
              "      <td>414419.000000</td>\n",
              "      <td>32.985763</td>\n",
              "      <td>4.250000e+08</td>\n",
              "      <td>2.781506e+09</td>\n",
              "      <td>705.000000</td>\n",
              "      <td>9767.000000</td>\n",
              "      <td>8.300000</td>\n",
              "      <td>2015.000000</td>\n",
              "      <td>4.250000e+08</td>\n",
              "      <td>2.827124e+09</td>\n",
              "    </tr>\n",
              "  </tbody>\n",
              "</table>\n",
              "</div>"
            ],
            "text/plain": [
              "                  id   popularity  ...    budget_adj   revenue_adj\n",
              "count    1992.000000  1992.000000  ...  1.992000e+03  1.992000e+03\n",
              "mean    71652.152108     1.316763  ...  3.627376e+07  1.302391e+08\n",
              "std     92355.883915     1.873563  ...  5.129783e+07  2.564338e+08\n",
              "min        11.000000     0.000620  ...  0.000000e+00  0.000000e+00\n",
              "25%      9699.000000     0.384079  ...  0.000000e+00  0.000000e+00\n",
              "50%     35112.500000     0.774223  ...  1.524601e+07  2.806370e+07\n",
              "75%     83573.000000     1.538639  ...  5.064450e+07  1.393645e+08\n",
              "max    414419.000000    32.985763  ...  4.250000e+08  2.827124e+09\n",
              "\n",
              "[8 rows x 10 columns]"
            ]
          },
          "metadata": {
            "tags": []
          },
          "execution_count": 40
        }
      ]
    },
    {
      "cell_type": "markdown",
      "metadata": {
        "id": "KmSXlTmixeSV",
        "colab_type": "text"
      },
      "source": [
        "# Data Cleaning\n",
        "\n",
        "Checking for and dropping of duplicates\n",
        "\n",
        "Only keep columns that are needed for analysis\n",
        "\n",
        "Create variable \"profit\"\n",
        "\n",
        "Split genres\n",
        "\n"
      ]
    },
    {
      "cell_type": "code",
      "metadata": {
        "id": "Wad5-Rn1wMOg",
        "colab_type": "code",
        "colab": {
          "base_uri": "https://localhost:8080/",
          "height": 487
        },
        "outputId": "1cd0aa1f-f2d4-4875-bb38-e017169baa07"
      },
      "source": [
        "# Drop duplicates\n",
        "tmdb_data.drop_duplicates(inplace=True)\n",
        "# Check if done (-1 entry)\n",
        "tmdb_data.info()"
      ],
      "execution_count": 41,
      "outputs": [
        {
          "output_type": "stream",
          "text": [
            "<class 'pandas.core.frame.DataFrame'>\n",
            "Int64Index: 10865 entries, 0 to 10865\n",
            "Data columns (total 21 columns):\n",
            " #   Column                Non-Null Count  Dtype  \n",
            "---  ------                --------------  -----  \n",
            " 0   id                    10865 non-null  int64  \n",
            " 1   imdb_id               10855 non-null  object \n",
            " 2   popularity            10865 non-null  float64\n",
            " 3   budget                10865 non-null  int64  \n",
            " 4   revenue               10865 non-null  int64  \n",
            " 5   original_title        10865 non-null  object \n",
            " 6   cast                  10789 non-null  object \n",
            " 7   homepage              2936 non-null   object \n",
            " 8   director              10821 non-null  object \n",
            " 9   tagline               8041 non-null   object \n",
            " 10  keywords              9372 non-null   object \n",
            " 11  overview              10861 non-null  object \n",
            " 12  runtime               10865 non-null  int64  \n",
            " 13  genres                10842 non-null  object \n",
            " 14  production_companies  9835 non-null   object \n",
            " 15  release_date          10865 non-null  object \n",
            " 16  vote_count            10865 non-null  int64  \n",
            " 17  vote_average          10865 non-null  float64\n",
            " 18  release_year          10865 non-null  int64  \n",
            " 19  budget_adj            10865 non-null  float64\n",
            " 20  revenue_adj           10865 non-null  float64\n",
            "dtypes: float64(4), int64(6), object(11)\n",
            "memory usage: 1.8+ MB\n"
          ],
          "name": "stdout"
        }
      ]
    },
    {
      "cell_type": "markdown",
      "metadata": {
        "id": "iARpPqtryCbM",
        "colab_type": "text"
      },
      "source": [
        "Almost all variables I need for my analysis have no null entries. Only for genres there are 23 null entries. In the next step I will first drop the null entries for genres and then only keep columns that I need for my further analysis. Plus, I will create a column showing the profit of each movie."
      ]
    },
    {
      "cell_type": "code",
      "metadata": {
        "id": "pjoWXCkSx0Sn",
        "colab_type": "code",
        "colab": {
          "base_uri": "https://localhost:8080/",
          "height": 487
        },
        "outputId": "c82d3c28-6e1a-47eb-8ab3-e6cecf0d57c6"
      },
      "source": [
        "# Drop rows containing missing values in genres\n",
        "tmdb_data.dropna(subset=['genres'], inplace=True)  \n",
        "tmdb_data.info()"
      ],
      "execution_count": 43,
      "outputs": [
        {
          "output_type": "stream",
          "text": [
            "<class 'pandas.core.frame.DataFrame'>\n",
            "Int64Index: 10842 entries, 0 to 10865\n",
            "Data columns (total 21 columns):\n",
            " #   Column                Non-Null Count  Dtype  \n",
            "---  ------                --------------  -----  \n",
            " 0   id                    10842 non-null  int64  \n",
            " 1   imdb_id               10834 non-null  object \n",
            " 2   popularity            10842 non-null  float64\n",
            " 3   budget                10842 non-null  int64  \n",
            " 4   revenue               10842 non-null  int64  \n",
            " 5   original_title        10842 non-null  object \n",
            " 6   cast                  10767 non-null  object \n",
            " 7   homepage              2931 non-null   object \n",
            " 8   director              10800 non-null  object \n",
            " 9   tagline               8036 non-null   object \n",
            " 10  keywords              9367 non-null   object \n",
            " 11  overview              10839 non-null  object \n",
            " 12  runtime               10842 non-null  int64  \n",
            " 13  genres                10842 non-null  object \n",
            " 14  production_companies  9826 non-null   object \n",
            " 15  release_date          10842 non-null  object \n",
            " 16  vote_count            10842 non-null  int64  \n",
            " 17  vote_average          10842 non-null  float64\n",
            " 18  release_year          10842 non-null  int64  \n",
            " 19  budget_adj            10842 non-null  float64\n",
            " 20  revenue_adj           10842 non-null  float64\n",
            "dtypes: float64(4), int64(6), object(11)\n",
            "memory usage: 1.8+ MB\n"
          ],
          "name": "stdout"
        }
      ]
    },
    {
      "cell_type": "code",
      "metadata": {
        "id": "OaNVAFYDyI2G",
        "colab_type": "code",
        "colab": {}
      },
      "source": [
        "# Create variable profit\n",
        "tmdb_data ['profit'] = tmdb_data['revenue'] - tmdb_data['budget']"
      ],
      "execution_count": 44,
      "outputs": []
    },
    {
      "cell_type": "code",
      "metadata": {
        "id": "I84RBLjryNiT",
        "colab_type": "code",
        "colab": {}
      },
      "source": [
        "# Only keep columns that are needed for further analysis using movie title as index\n",
        "md = tmdb_data[['popularity','budget','revenue', 'original_title','runtime', 'genres','vote_count','vote_average','profit','release_year']]\n",
        "# md.set_index('original_title', inplace=True)"
      ],
      "execution_count": 45,
      "outputs": []
    },
    {
      "cell_type": "code",
      "metadata": {
        "id": "JVvYiqQcybeY",
        "colab_type": "code",
        "colab": {
          "base_uri": "https://localhost:8080/",
          "height": 262
        },
        "outputId": "8d027e1b-e53b-447d-912b-b44d94071333"
      },
      "source": [
        "# Check result\n",
        "md.head()"
      ],
      "execution_count": 46,
      "outputs": [
        {
          "output_type": "execute_result",
          "data": {
            "text/html": [
              "<div>\n",
              "<style scoped>\n",
              "    .dataframe tbody tr th:only-of-type {\n",
              "        vertical-align: middle;\n",
              "    }\n",
              "\n",
              "    .dataframe tbody tr th {\n",
              "        vertical-align: top;\n",
              "    }\n",
              "\n",
              "    .dataframe thead th {\n",
              "        text-align: right;\n",
              "    }\n",
              "</style>\n",
              "<table border=\"1\" class=\"dataframe\">\n",
              "  <thead>\n",
              "    <tr style=\"text-align: right;\">\n",
              "      <th></th>\n",
              "      <th>popularity</th>\n",
              "      <th>budget</th>\n",
              "      <th>revenue</th>\n",
              "      <th>original_title</th>\n",
              "      <th>runtime</th>\n",
              "      <th>genres</th>\n",
              "      <th>vote_count</th>\n",
              "      <th>vote_average</th>\n",
              "      <th>profit</th>\n",
              "      <th>release_year</th>\n",
              "    </tr>\n",
              "  </thead>\n",
              "  <tbody>\n",
              "    <tr>\n",
              "      <th>0</th>\n",
              "      <td>32.985763</td>\n",
              "      <td>150000000</td>\n",
              "      <td>1513528810</td>\n",
              "      <td>Jurassic World</td>\n",
              "      <td>124</td>\n",
              "      <td>Action|Adventure|Science Fiction|Thriller</td>\n",
              "      <td>5562</td>\n",
              "      <td>6.5</td>\n",
              "      <td>1363528810</td>\n",
              "      <td>2015</td>\n",
              "    </tr>\n",
              "    <tr>\n",
              "      <th>1</th>\n",
              "      <td>28.419936</td>\n",
              "      <td>150000000</td>\n",
              "      <td>378436354</td>\n",
              "      <td>Mad Max: Fury Road</td>\n",
              "      <td>120</td>\n",
              "      <td>Action|Adventure|Science Fiction|Thriller</td>\n",
              "      <td>6185</td>\n",
              "      <td>7.1</td>\n",
              "      <td>228436354</td>\n",
              "      <td>2015</td>\n",
              "    </tr>\n",
              "    <tr>\n",
              "      <th>2</th>\n",
              "      <td>13.112507</td>\n",
              "      <td>110000000</td>\n",
              "      <td>295238201</td>\n",
              "      <td>Insurgent</td>\n",
              "      <td>119</td>\n",
              "      <td>Adventure|Science Fiction|Thriller</td>\n",
              "      <td>2480</td>\n",
              "      <td>6.3</td>\n",
              "      <td>185238201</td>\n",
              "      <td>2015</td>\n",
              "    </tr>\n",
              "    <tr>\n",
              "      <th>3</th>\n",
              "      <td>11.173104</td>\n",
              "      <td>200000000</td>\n",
              "      <td>2068178225</td>\n",
              "      <td>Star Wars: The Force Awakens</td>\n",
              "      <td>136</td>\n",
              "      <td>Action|Adventure|Science Fiction|Fantasy</td>\n",
              "      <td>5292</td>\n",
              "      <td>7.5</td>\n",
              "      <td>1868178225</td>\n",
              "      <td>2015</td>\n",
              "    </tr>\n",
              "    <tr>\n",
              "      <th>4</th>\n",
              "      <td>9.335014</td>\n",
              "      <td>190000000</td>\n",
              "      <td>1506249360</td>\n",
              "      <td>Furious 7</td>\n",
              "      <td>137</td>\n",
              "      <td>Action|Crime|Thriller</td>\n",
              "      <td>2947</td>\n",
              "      <td>7.3</td>\n",
              "      <td>1316249360</td>\n",
              "      <td>2015</td>\n",
              "    </tr>\n",
              "  </tbody>\n",
              "</table>\n",
              "</div>"
            ],
            "text/plain": [
              "   popularity     budget     revenue  ... vote_average      profit release_year\n",
              "0   32.985763  150000000  1513528810  ...          6.5  1363528810         2015\n",
              "1   28.419936  150000000   378436354  ...          7.1   228436354         2015\n",
              "2   13.112507  110000000   295238201  ...          6.3   185238201         2015\n",
              "3   11.173104  200000000  2068178225  ...          7.5  1868178225         2015\n",
              "4    9.335014  190000000  1506249360  ...          7.3  1316249360         2015\n",
              "\n",
              "[5 rows x 10 columns]"
            ]
          },
          "metadata": {
            "tags": []
          },
          "execution_count": 46
        }
      ]
    },
    {
      "cell_type": "code",
      "metadata": {
        "id": "q20v6c7Syf3o",
        "colab_type": "code",
        "colab": {}
      },
      "source": [
        "# Split genres and create a new entry for each of the genre a movie falls into\n",
        "s = md['genres'].str.split('|').apply(Series, 1).stack()\n",
        "s.index = s.index.droplevel(-1)\n",
        "s.name = 'genres'\n",
        "del md['genres']\n",
        "md_split_genres = md.join(s)"
      ],
      "execution_count": 47,
      "outputs": []
    },
    {
      "cell_type": "code",
      "metadata": {
        "id": "qQf4LCFjyxy3",
        "colab_type": "code",
        "colab": {
          "base_uri": "https://localhost:8080/",
          "height": 195
        },
        "outputId": "577d53a9-87d8-441e-b3e8-d6749d8d4e08"
      },
      "source": [
        "# Check result\n",
        "md_split_genres.head()"
      ],
      "execution_count": 48,
      "outputs": [
        {
          "output_type": "execute_result",
          "data": {
            "text/html": [
              "<div>\n",
              "<style scoped>\n",
              "    .dataframe tbody tr th:only-of-type {\n",
              "        vertical-align: middle;\n",
              "    }\n",
              "\n",
              "    .dataframe tbody tr th {\n",
              "        vertical-align: top;\n",
              "    }\n",
              "\n",
              "    .dataframe thead th {\n",
              "        text-align: right;\n",
              "    }\n",
              "</style>\n",
              "<table border=\"1\" class=\"dataframe\">\n",
              "  <thead>\n",
              "    <tr style=\"text-align: right;\">\n",
              "      <th></th>\n",
              "      <th>popularity</th>\n",
              "      <th>budget</th>\n",
              "      <th>revenue</th>\n",
              "      <th>original_title</th>\n",
              "      <th>runtime</th>\n",
              "      <th>vote_count</th>\n",
              "      <th>vote_average</th>\n",
              "      <th>profit</th>\n",
              "      <th>release_year</th>\n",
              "      <th>genres</th>\n",
              "    </tr>\n",
              "  </thead>\n",
              "  <tbody>\n",
              "    <tr>\n",
              "      <th>0</th>\n",
              "      <td>32.985763</td>\n",
              "      <td>150000000</td>\n",
              "      <td>1513528810</td>\n",
              "      <td>Jurassic World</td>\n",
              "      <td>124</td>\n",
              "      <td>5562</td>\n",
              "      <td>6.5</td>\n",
              "      <td>1363528810</td>\n",
              "      <td>2015</td>\n",
              "      <td>Action</td>\n",
              "    </tr>\n",
              "    <tr>\n",
              "      <th>0</th>\n",
              "      <td>32.985763</td>\n",
              "      <td>150000000</td>\n",
              "      <td>1513528810</td>\n",
              "      <td>Jurassic World</td>\n",
              "      <td>124</td>\n",
              "      <td>5562</td>\n",
              "      <td>6.5</td>\n",
              "      <td>1363528810</td>\n",
              "      <td>2015</td>\n",
              "      <td>Adventure</td>\n",
              "    </tr>\n",
              "    <tr>\n",
              "      <th>0</th>\n",
              "      <td>32.985763</td>\n",
              "      <td>150000000</td>\n",
              "      <td>1513528810</td>\n",
              "      <td>Jurassic World</td>\n",
              "      <td>124</td>\n",
              "      <td>5562</td>\n",
              "      <td>6.5</td>\n",
              "      <td>1363528810</td>\n",
              "      <td>2015</td>\n",
              "      <td>Science Fiction</td>\n",
              "    </tr>\n",
              "    <tr>\n",
              "      <th>0</th>\n",
              "      <td>32.985763</td>\n",
              "      <td>150000000</td>\n",
              "      <td>1513528810</td>\n",
              "      <td>Jurassic World</td>\n",
              "      <td>124</td>\n",
              "      <td>5562</td>\n",
              "      <td>6.5</td>\n",
              "      <td>1363528810</td>\n",
              "      <td>2015</td>\n",
              "      <td>Thriller</td>\n",
              "    </tr>\n",
              "    <tr>\n",
              "      <th>1</th>\n",
              "      <td>28.419936</td>\n",
              "      <td>150000000</td>\n",
              "      <td>378436354</td>\n",
              "      <td>Mad Max: Fury Road</td>\n",
              "      <td>120</td>\n",
              "      <td>6185</td>\n",
              "      <td>7.1</td>\n",
              "      <td>228436354</td>\n",
              "      <td>2015</td>\n",
              "      <td>Action</td>\n",
              "    </tr>\n",
              "  </tbody>\n",
              "</table>\n",
              "</div>"
            ],
            "text/plain": [
              "   popularity     budget     revenue  ...      profit  release_year           genres\n",
              "0   32.985763  150000000  1513528810  ...  1363528810          2015           Action\n",
              "0   32.985763  150000000  1513528810  ...  1363528810          2015        Adventure\n",
              "0   32.985763  150000000  1513528810  ...  1363528810          2015  Science Fiction\n",
              "0   32.985763  150000000  1513528810  ...  1363528810          2015         Thriller\n",
              "1   28.419936  150000000   378436354  ...   228436354          2015           Action\n",
              "\n",
              "[5 rows x 10 columns]"
            ]
          },
          "metadata": {
            "tags": []
          },
          "execution_count": 48
        }
      ]
    },
    {
      "cell_type": "code",
      "metadata": {
        "id": "g4uyky8fy1yw",
        "colab_type": "code",
        "colab": {
          "base_uri": "https://localhost:8080/",
          "height": 34
        },
        "outputId": "4aa28761-6f4f-448f-f09a-2a79c3d27d3c"
      },
      "source": [
        "# Check entries (should be a lot more rows since the most movies have more than one genre)\n",
        "md_split_genres.shape"
      ],
      "execution_count": 49,
      "outputs": [
        {
          "output_type": "execute_result",
          "data": {
            "text/plain": [
              "(26955, 10)"
            ]
          },
          "metadata": {
            "tags": []
          },
          "execution_count": 49
        }
      ]
    },
    {
      "cell_type": "markdown",
      "metadata": {
        "id": "ZPl1z3erzZv0",
        "colab_type": "text"
      },
      "source": [
        "Now the data is ready for exploratory analysis."
      ]
    },
    {
      "cell_type": "markdown",
      "metadata": {
        "id": "12WkCVTLzuN5",
        "colab_type": "text"
      },
      "source": [
        "##Exploratory Data Analysis\n",
        "###Explore Data\n",
        "###### Distribution of variables\n",
        "###### Descriptive statistics\n",
        "###### Research Questions: Genre analysis (Q1 - Q7)\n",
        "###### Research Hypotheses: Correlation analysis (H1 - H5)"
      ]
    },
    {
      "cell_type": "code",
      "metadata": {
        "id": "bQ1x4g3JzUDl",
        "colab_type": "code",
        "colab": {
          "base_uri": "https://localhost:8080/",
          "height": 607
        },
        "outputId": "2007d9f7-00d8-450e-d8f0-99e53b41c76f"
      },
      "source": [
        "#Look at histograms to get idea of how variables are distrubuted (overall)\n",
        "md.hist(color='DarkBlue',figsize= (10,10));"
      ],
      "execution_count": 50,
      "outputs": [
        {
          "output_type": "display_data",
          "data": {
            "image/png": "[encoded data removed]",
            "text/plain": [
              "<Figure size 720x720 with 9 Axes>"
            ]
          },
          "metadata": {
            "tags": [],
            "needs_background": "light"
          }
        }
      ]
    },
    {
      "cell_type": "markdown",
      "metadata": {
        "id": "1uCxYgWJ0V9r",
        "colab_type": "text"
      },
      "source": [
        "All variables are skewed. The only variable that is closed to a normal distribution is vote avg. (slightly right skewed)."
      ]
    },
    {
      "cell_type": "code",
      "metadata": {
        "id": "XBbjarJU0PpE",
        "colab_type": "code",
        "colab": {}
      },
      "source": [
        "# Group data by genre and get mean for each genre and each variable, divide by 1 mio for clarity and better visibility\n",
        "md_genre_mean = md_split_genres.groupby(['genres']).mean()\n",
        "md_genre_mean ['profit_million'] = md_genre_mean['profit']/1000000\n",
        "del md_genre_mean['profit']\n",
        "md_genre_mean['revenue_million'] = md_genre_mean['revenue']/1000000\n",
        "del md_genre_mean['revenue']\n",
        "md_genre_mean['budget_million'] =md_genre_mean['budget']/1000000\n",
        "del md_genre_mean['budget']"
      ],
      "execution_count": 51,
      "outputs": []
    },
    {
      "cell_type": "code",
      "metadata": {
        "id": "n76pB6KK0dys",
        "colab_type": "code",
        "colab": {
          "base_uri": "https://localhost:8080/",
          "height": 607
        },
        "outputId": "a8e1092b-ae17-4637-e3e7-7083412818ee"
      },
      "source": [
        "# Get distribution of mean of variables grouped by genre\n",
        "md_genre_mean.hist(color='DarkBlue',figsize= (10,10));"
      ],
      "execution_count": 52,
      "outputs": [
        {
          "output_type": "display_data",
          "data": {
            "image/png": "[encoded data removed]",
            "text/plain": [
              "<Figure size 720x720 with 9 Axes>"
            ]
          },
          "metadata": {
            "tags": [],
            "needs_background": "light"
          }
        }
      ]
    },
    {
      "cell_type": "markdown",
      "metadata": {
        "id": "5mYy3-sD1GgJ",
        "colab_type": "text"
      },
      "source": [
        "All means of variables per genre are skewed. Mean of runtime across genres is closest to being normally distributed."
      ]
    },
    {
      "cell_type": "code",
      "metadata": {
        "id": "G28Lutwa0wCL",
        "colab_type": "code",
        "colab": {
          "base_uri": "https://localhost:8080/",
          "height": 284
        },
        "outputId": "0b4226cb-516d-49e6-9c37-be0a8bcca91c"
      },
      "source": [
        "# Overall Descriptive statistics\n",
        "md.describe()"
      ],
      "execution_count": 54,
      "outputs": [
        {
          "output_type": "execute_result",
          "data": {
            "text/html": [
              "<div>\n",
              "<style scoped>\n",
              "    .dataframe tbody tr th:only-of-type {\n",
              "        vertical-align: middle;\n",
              "    }\n",
              "\n",
              "    .dataframe tbody tr th {\n",
              "        vertical-align: top;\n",
              "    }\n",
              "\n",
              "    .dataframe thead th {\n",
              "        text-align: right;\n",
              "    }\n",
              "</style>\n",
              "<table border=\"1\" class=\"dataframe\">\n",
              "  <thead>\n",
              "    <tr style=\"text-align: right;\">\n",
              "      <th></th>\n",
              "      <th>popularity</th>\n",
              "      <th>budget</th>\n",
              "      <th>revenue</th>\n",
              "      <th>runtime</th>\n",
              "      <th>vote_count</th>\n",
              "      <th>vote_average</th>\n",
              "      <th>profit</th>\n",
              "      <th>release_year</th>\n",
              "    </tr>\n",
              "  </thead>\n",
              "  <tbody>\n",
              "    <tr>\n",
              "      <th>count</th>\n",
              "      <td>10842.000000</td>\n",
              "      <td>1.084200e+04</td>\n",
              "      <td>1.084200e+04</td>\n",
              "      <td>10842.000000</td>\n",
              "      <td>10842.000000</td>\n",
              "      <td>10842.000000</td>\n",
              "      <td>1.084200e+04</td>\n",
              "      <td>10842.000000</td>\n",
              "    </tr>\n",
              "    <tr>\n",
              "      <th>mean</th>\n",
              "      <td>0.647461</td>\n",
              "      <td>1.465531e+07</td>\n",
              "      <td>3.991138e+07</td>\n",
              "      <td>102.138443</td>\n",
              "      <td>217.823649</td>\n",
              "      <td>5.974064</td>\n",
              "      <td>2.525607e+07</td>\n",
              "      <td>2001.314794</td>\n",
              "    </tr>\n",
              "    <tr>\n",
              "      <th>std</th>\n",
              "      <td>1.001032</td>\n",
              "      <td>3.093971e+07</td>\n",
              "      <td>1.171179e+08</td>\n",
              "      <td>31.294612</td>\n",
              "      <td>576.180993</td>\n",
              "      <td>0.934257</td>\n",
              "      <td>9.668645e+07</td>\n",
              "      <td>12.813617</td>\n",
              "    </tr>\n",
              "    <tr>\n",
              "      <th>min</th>\n",
              "      <td>0.000065</td>\n",
              "      <td>0.000000e+00</td>\n",
              "      <td>0.000000e+00</td>\n",
              "      <td>0.000000</td>\n",
              "      <td>10.000000</td>\n",
              "      <td>1.500000</td>\n",
              "      <td>-4.139124e+08</td>\n",
              "      <td>1960.000000</td>\n",
              "    </tr>\n",
              "    <tr>\n",
              "      <th>25%</th>\n",
              "      <td>0.208210</td>\n",
              "      <td>0.000000e+00</td>\n",
              "      <td>0.000000e+00</td>\n",
              "      <td>90.000000</td>\n",
              "      <td>17.000000</td>\n",
              "      <td>5.400000</td>\n",
              "      <td>0.000000e+00</td>\n",
              "      <td>1995.000000</td>\n",
              "    </tr>\n",
              "    <tr>\n",
              "      <th>50%</th>\n",
              "      <td>0.384532</td>\n",
              "      <td>0.000000e+00</td>\n",
              "      <td>0.000000e+00</td>\n",
              "      <td>99.000000</td>\n",
              "      <td>38.000000</td>\n",
              "      <td>6.000000</td>\n",
              "      <td>0.000000e+00</td>\n",
              "      <td>2006.000000</td>\n",
              "    </tr>\n",
              "    <tr>\n",
              "      <th>75%</th>\n",
              "      <td>0.715393</td>\n",
              "      <td>1.500000e+07</td>\n",
              "      <td>2.414118e+07</td>\n",
              "      <td>111.000000</td>\n",
              "      <td>146.000000</td>\n",
              "      <td>6.600000</td>\n",
              "      <td>9.176386e+06</td>\n",
              "      <td>2011.000000</td>\n",
              "    </tr>\n",
              "    <tr>\n",
              "      <th>max</th>\n",
              "      <td>32.985763</td>\n",
              "      <td>4.250000e+08</td>\n",
              "      <td>2.781506e+09</td>\n",
              "      <td>900.000000</td>\n",
              "      <td>9767.000000</td>\n",
              "      <td>9.200000</td>\n",
              "      <td>2.544506e+09</td>\n",
              "      <td>2015.000000</td>\n",
              "    </tr>\n",
              "  </tbody>\n",
              "</table>\n",
              "</div>"
            ],
            "text/plain": [
              "         popularity        budget  ...        profit  release_year\n",
              "count  10842.000000  1.084200e+04  ...  1.084200e+04  10842.000000\n",
              "mean       0.647461  1.465531e+07  ...  2.525607e+07   2001.314794\n",
              "std        1.001032  3.093971e+07  ...  9.668645e+07     12.813617\n",
              "min        0.000065  0.000000e+00  ... -4.139124e+08   1960.000000\n",
              "25%        0.208210  0.000000e+00  ...  0.000000e+00   1995.000000\n",
              "50%        0.384532  0.000000e+00  ...  0.000000e+00   2006.000000\n",
              "75%        0.715393  1.500000e+07  ...  9.176386e+06   2011.000000\n",
              "max       32.985763  4.250000e+08  ...  2.544506e+09   2015.000000\n",
              "\n",
              "[8 rows x 8 columns]"
            ]
          },
          "metadata": {
            "tags": []
          },
          "execution_count": 54
        }
      ]
    },
    {
      "cell_type": "code",
      "metadata": {
        "id": "jQRAKxS01fCY",
        "colab_type": "code",
        "colab": {
          "base_uri": "https://localhost:8080/",
          "height": 136
        },
        "outputId": "b4534cd2-dbb9-4515-86a1-caf188df6f57"
      },
      "source": [
        "# Get movies with highest budget, profit, popularity\n",
        "md.nlargest(3, 'budget')"
      ],
      "execution_count": 55,
      "outputs": [
        {
          "output_type": "execute_result",
          "data": {
            "text/html": [
              "<div>\n",
              "<style scoped>\n",
              "    .dataframe tbody tr th:only-of-type {\n",
              "        vertical-align: middle;\n",
              "    }\n",
              "\n",
              "    .dataframe tbody tr th {\n",
              "        vertical-align: top;\n",
              "    }\n",
              "\n",
              "    .dataframe thead th {\n",
              "        text-align: right;\n",
              "    }\n",
              "</style>\n",
              "<table border=\"1\" class=\"dataframe\">\n",
              "  <thead>\n",
              "    <tr style=\"text-align: right;\">\n",
              "      <th></th>\n",
              "      <th>popularity</th>\n",
              "      <th>budget</th>\n",
              "      <th>revenue</th>\n",
              "      <th>original_title</th>\n",
              "      <th>runtime</th>\n",
              "      <th>vote_count</th>\n",
              "      <th>vote_average</th>\n",
              "      <th>profit</th>\n",
              "      <th>release_year</th>\n",
              "    </tr>\n",
              "  </thead>\n",
              "  <tbody>\n",
              "    <tr>\n",
              "      <th>2244</th>\n",
              "      <td>0.250540</td>\n",
              "      <td>425000000</td>\n",
              "      <td>11087569</td>\n",
              "      <td>The Warrior's Way</td>\n",
              "      <td>100</td>\n",
              "      <td>74</td>\n",
              "      <td>6.4</td>\n",
              "      <td>-413912431</td>\n",
              "      <td>2010</td>\n",
              "    </tr>\n",
              "    <tr>\n",
              "      <th>3375</th>\n",
              "      <td>4.955130</td>\n",
              "      <td>380000000</td>\n",
              "      <td>1021683000</td>\n",
              "      <td>Pirates of the Caribbean: On Stranger Tides</td>\n",
              "      <td>136</td>\n",
              "      <td>3180</td>\n",
              "      <td>6.3</td>\n",
              "      <td>641683000</td>\n",
              "      <td>2011</td>\n",
              "    </tr>\n",
              "    <tr>\n",
              "      <th>7387</th>\n",
              "      <td>4.965391</td>\n",
              "      <td>300000000</td>\n",
              "      <td>961000000</td>\n",
              "      <td>Pirates of the Caribbean: At World's End</td>\n",
              "      <td>169</td>\n",
              "      <td>2626</td>\n",
              "      <td>6.8</td>\n",
              "      <td>661000000</td>\n",
              "      <td>2007</td>\n",
              "    </tr>\n",
              "  </tbody>\n",
              "</table>\n",
              "</div>"
            ],
            "text/plain": [
              "      popularity     budget     revenue  ... vote_average     profit  release_year\n",
              "2244    0.250540  425000000    11087569  ...          6.4 -413912431          2010\n",
              "3375    4.955130  380000000  1021683000  ...          6.3  641683000          2011\n",
              "7387    4.965391  300000000   961000000  ...          6.8  661000000          2007\n",
              "\n",
              "[3 rows x 9 columns]"
            ]
          },
          "metadata": {
            "tags": []
          },
          "execution_count": 55
        }
      ]
    },
    {
      "cell_type": "code",
      "metadata": {
        "id": "YcFa1UQr1-5A",
        "colab_type": "code",
        "colab": {
          "base_uri": "https://localhost:8080/",
          "height": 136
        },
        "outputId": "0eec438d-7fc7-4a1c-b69a-5a997d3bc72a"
      },
      "source": [
        "md.nlargest(3, 'profit')"
      ],
      "execution_count": 56,
      "outputs": [
        {
          "output_type": "execute_result",
          "data": {
            "text/html": [
              "<div>\n",
              "<style scoped>\n",
              "    .dataframe tbody tr th:only-of-type {\n",
              "        vertical-align: middle;\n",
              "    }\n",
              "\n",
              "    .dataframe tbody tr th {\n",
              "        vertical-align: top;\n",
              "    }\n",
              "\n",
              "    .dataframe thead th {\n",
              "        text-align: right;\n",
              "    }\n",
              "</style>\n",
              "<table border=\"1\" class=\"dataframe\">\n",
              "  <thead>\n",
              "    <tr style=\"text-align: right;\">\n",
              "      <th></th>\n",
              "      <th>popularity</th>\n",
              "      <th>budget</th>\n",
              "      <th>revenue</th>\n",
              "      <th>original_title</th>\n",
              "      <th>runtime</th>\n",
              "      <th>vote_count</th>\n",
              "      <th>vote_average</th>\n",
              "      <th>profit</th>\n",
              "      <th>release_year</th>\n",
              "    </tr>\n",
              "  </thead>\n",
              "  <tbody>\n",
              "    <tr>\n",
              "      <th>1386</th>\n",
              "      <td>9.432768</td>\n",
              "      <td>237000000</td>\n",
              "      <td>2781505847</td>\n",
              "      <td>Avatar</td>\n",
              "      <td>162</td>\n",
              "      <td>8458</td>\n",
              "      <td>7.1</td>\n",
              "      <td>2544505847</td>\n",
              "      <td>2009</td>\n",
              "    </tr>\n",
              "    <tr>\n",
              "      <th>3</th>\n",
              "      <td>11.173104</td>\n",
              "      <td>200000000</td>\n",
              "      <td>2068178225</td>\n",
              "      <td>Star Wars: The Force Awakens</td>\n",
              "      <td>136</td>\n",
              "      <td>5292</td>\n",
              "      <td>7.5</td>\n",
              "      <td>1868178225</td>\n",
              "      <td>2015</td>\n",
              "    </tr>\n",
              "    <tr>\n",
              "      <th>5231</th>\n",
              "      <td>4.355219</td>\n",
              "      <td>200000000</td>\n",
              "      <td>1845034188</td>\n",
              "      <td>Titanic</td>\n",
              "      <td>194</td>\n",
              "      <td>4654</td>\n",
              "      <td>7.3</td>\n",
              "      <td>1645034188</td>\n",
              "      <td>1997</td>\n",
              "    </tr>\n",
              "  </tbody>\n",
              "</table>\n",
              "</div>"
            ],
            "text/plain": [
              "      popularity     budget     revenue  ... vote_average      profit  release_year\n",
              "1386    9.432768  237000000  2781505847  ...          7.1  2544505847          2009\n",
              "3      11.173104  200000000  2068178225  ...          7.5  1868178225          2015\n",
              "5231    4.355219  200000000  1845034188  ...          7.3  1645034188          1997\n",
              "\n",
              "[3 rows x 9 columns]"
            ]
          },
          "metadata": {
            "tags": []
          },
          "execution_count": 56
        }
      ]
    },
    {
      "cell_type": "code",
      "metadata": {
        "id": "qeO4tLqa2Q93",
        "colab_type": "code",
        "colab": {
          "base_uri": "https://localhost:8080/",
          "height": 136
        },
        "outputId": "3505aecf-1ddd-4610-8d59-09ea11634f88"
      },
      "source": [
        "md.nlargest(3, 'popularity')"
      ],
      "execution_count": 57,
      "outputs": [
        {
          "output_type": "execute_result",
          "data": {
            "text/html": [
              "<div>\n",
              "<style scoped>\n",
              "    .dataframe tbody tr th:only-of-type {\n",
              "        vertical-align: middle;\n",
              "    }\n",
              "\n",
              "    .dataframe tbody tr th {\n",
              "        vertical-align: top;\n",
              "    }\n",
              "\n",
              "    .dataframe thead th {\n",
              "        text-align: right;\n",
              "    }\n",
              "</style>\n",
              "<table border=\"1\" class=\"dataframe\">\n",
              "  <thead>\n",
              "    <tr style=\"text-align: right;\">\n",
              "      <th></th>\n",
              "      <th>popularity</th>\n",
              "      <th>budget</th>\n",
              "      <th>revenue</th>\n",
              "      <th>original_title</th>\n",
              "      <th>runtime</th>\n",
              "      <th>vote_count</th>\n",
              "      <th>vote_average</th>\n",
              "      <th>profit</th>\n",
              "      <th>release_year</th>\n",
              "    </tr>\n",
              "  </thead>\n",
              "  <tbody>\n",
              "    <tr>\n",
              "      <th>0</th>\n",
              "      <td>32.985763</td>\n",
              "      <td>150000000</td>\n",
              "      <td>1513528810</td>\n",
              "      <td>Jurassic World</td>\n",
              "      <td>124</td>\n",
              "      <td>5562</td>\n",
              "      <td>6.5</td>\n",
              "      <td>1363528810</td>\n",
              "      <td>2015</td>\n",
              "    </tr>\n",
              "    <tr>\n",
              "      <th>1</th>\n",
              "      <td>28.419936</td>\n",
              "      <td>150000000</td>\n",
              "      <td>378436354</td>\n",
              "      <td>Mad Max: Fury Road</td>\n",
              "      <td>120</td>\n",
              "      <td>6185</td>\n",
              "      <td>7.1</td>\n",
              "      <td>228436354</td>\n",
              "      <td>2015</td>\n",
              "    </tr>\n",
              "    <tr>\n",
              "      <th>629</th>\n",
              "      <td>24.949134</td>\n",
              "      <td>165000000</td>\n",
              "      <td>621752480</td>\n",
              "      <td>Interstellar</td>\n",
              "      <td>169</td>\n",
              "      <td>6498</td>\n",
              "      <td>8.0</td>\n",
              "      <td>456752480</td>\n",
              "      <td>2014</td>\n",
              "    </tr>\n",
              "  </tbody>\n",
              "</table>\n",
              "</div>"
            ],
            "text/plain": [
              "     popularity     budget     revenue  ... vote_average      profit  release_year\n",
              "0     32.985763  150000000  1513528810  ...          6.5  1363528810          2015\n",
              "1     28.419936  150000000   378436354  ...          7.1   228436354          2015\n",
              "629   24.949134  165000000   621752480  ...          8.0   456752480          2014\n",
              "\n",
              "[3 rows x 9 columns]"
            ]
          },
          "metadata": {
            "tags": []
          },
          "execution_count": 57
        }
      ]
    },
    {
      "cell_type": "markdown",
      "metadata": {
        "id": "-jcKuhv12129",
        "colab_type": "text"
      },
      "source": [
        "The Warrior's Way had the highest budget with 425 mio USD. Avatar made the most profit with 2,544 mio USD. The most popular movie was Jurassic World.\n",
        "\n"
      ]
    },
    {
      "cell_type": "code",
      "metadata": {
        "id": "gta8qviu2S3m",
        "colab_type": "code",
        "colab": {
          "base_uri": "https://localhost:8080/",
          "height": 225
        },
        "outputId": "0faee8b7-46a0-435b-c578-b671d8fa5ac6"
      },
      "source": [
        "# Get movies made per year, create new data frame\n",
        "md_year = pd.DataFrame(md_split_genres.groupby('release_year').original_title.nunique())\n",
        "md_year.head()"
      ],
      "execution_count": 58,
      "outputs": [
        {
          "output_type": "execute_result",
          "data": {
            "text/html": [
              "<div>\n",
              "<style scoped>\n",
              "    .dataframe tbody tr th:only-of-type {\n",
              "        vertical-align: middle;\n",
              "    }\n",
              "\n",
              "    .dataframe tbody tr th {\n",
              "        vertical-align: top;\n",
              "    }\n",
              "\n",
              "    .dataframe thead th {\n",
              "        text-align: right;\n",
              "    }\n",
              "</style>\n",
              "<table border=\"1\" class=\"dataframe\">\n",
              "  <thead>\n",
              "    <tr style=\"text-align: right;\">\n",
              "      <th></th>\n",
              "      <th>original_title</th>\n",
              "    </tr>\n",
              "    <tr>\n",
              "      <th>release_year</th>\n",
              "      <th></th>\n",
              "    </tr>\n",
              "  </thead>\n",
              "  <tbody>\n",
              "    <tr>\n",
              "      <th>1960</th>\n",
              "      <td>32</td>\n",
              "    </tr>\n",
              "    <tr>\n",
              "      <th>1961</th>\n",
              "      <td>31</td>\n",
              "    </tr>\n",
              "    <tr>\n",
              "      <th>1962</th>\n",
              "      <td>32</td>\n",
              "    </tr>\n",
              "    <tr>\n",
              "      <th>1963</th>\n",
              "      <td>34</td>\n",
              "    </tr>\n",
              "    <tr>\n",
              "      <th>1964</th>\n",
              "      <td>42</td>\n",
              "    </tr>\n",
              "  </tbody>\n",
              "</table>\n",
              "</div>"
            ],
            "text/plain": [
              "              original_title\n",
              "release_year                \n",
              "1960                      32\n",
              "1961                      31\n",
              "1962                      32\n",
              "1963                      34\n",
              "1964                      42"
            ]
          },
          "metadata": {
            "tags": []
          },
          "execution_count": 58
        }
      ]
    },
    {
      "cell_type": "markdown",
      "metadata": {
        "id": "rA_Bl5ld2m3Y",
        "colab_type": "text"
      },
      "source": [
        ""
      ]
    },
    {
      "cell_type": "code",
      "metadata": {
        "id": "hkfmlQgK2WkW",
        "colab_type": "code",
        "colab": {}
      },
      "source": [
        ""
      ],
      "execution_count": null,
      "outputs": []
    }
  ]
}